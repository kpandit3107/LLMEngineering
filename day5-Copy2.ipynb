{
 "cells": [
  {
   "cell_type": "markdown",
   "id": "a98030af-fcd1-4d63-a36e-38ba053498fa",
   "metadata": {},
   "source": [
    "# A full business solution\n",
    "\n",
    "## Now we will take our project from Day 1 to the next level\n",
    "\n",
    "### BUSINESS CHALLENGE:\n",
    "\n",
    "Create a product that builds a Brochure for a company to be used for prospective clients, investors and potential recruits.\n",
    "\n",
    "We will be provided a company name and their primary website.\n",
    "\n",
    "See the end of this notebook for examples of real-world business applications.\n",
    "\n",
    "And remember: I'm always available if you have problems or ideas! Please do reach out."
   ]
  },
  {
   "cell_type": "code",
   "execution_count": 13,
   "id": "d5b08506-dc8b-4443-9201-5f1848161363",
   "metadata": {},
   "outputs": [],
   "source": [
    "# imports\n",
    "# If these fail, please check you're running from an 'activated' environment with (llms) in the command prompt\n",
    "\n",
    "import os\n",
    "import requests\n",
    "import json\n",
    "from typing import List\n",
    "from dotenv import load_dotenv\n",
    "from bs4 import BeautifulSoup\n",
    "from IPython.display import Markdown, display, update_display\n",
    "from openai import OpenAI\n",
    "import ollama"
   ]
  },
  {
   "cell_type": "code",
   "execution_count": 4,
   "id": "fc5d8880-f2ee-4c06-af16-ecbc0262af61",
   "metadata": {},
   "outputs": [
    {
     "name": "stdout",
     "output_type": "stream",
     "text": [
      "API key looks good so far\n"
     ]
    }
   ],
   "source": [
    "# Initialize and constants\n",
    "\n",
    "load_dotenv(override=True)\n",
    "api_key = os.getenv('OPENAI_API_KEY')\n",
    "\n",
    "if api_key and api_key.startswith('sk-proj-') and len(api_key)>10:\n",
    "    print(\"API key looks good so far\")\n",
    "else:\n",
    "    print(\"There might be a problem with your API key? Please visit the troubleshooting notebook!\")\n",
    "    \n",
    "MODEL = 'gpt-4o-mini'\n",
    "openai = OpenAI()"
   ]
  },
  {
   "cell_type": "markdown",
   "id": "1771af9c-717a-4fca-bbbe-8a95893312c3",
   "metadata": {},
   "source": [
    "## First step: Have GPT-4o-mini figure out which links are relevant\n",
    "\n",
    "### Use a call to gpt-4o-mini to read the links on a webpage, and respond in structured JSON.  \n",
    "It should decide which links are relevant, and replace relative links such as \"/about\" with \"https://company.com/about\".  \n",
    "We will use \"one shot prompting\" in which we provide an example of how it should respond in the prompt.\n",
    "\n",
    "This is an excellent use case for an LLM, because it requires nuanced understanding. Imagine trying to code this without LLMs by parsing and analyzing the webpage - it would be very hard!\n",
    "\n",
    "Sidenote: there is a more advanced technique called \"Structured Outputs\" in which we require the model to respond according to a spec. We cover this technique in Week 8 during our autonomous Agentic AI project."
   ]
  },
  {
   "cell_type": "code",
   "execution_count": 5,
   "id": "23d1f66f-4925-4cb0-bc7b-b45234cf25aa",
   "metadata": {},
   "outputs": [],
   "source": [
    "\n",
    "MODEL_GPT = 'gpt-4o-mini'\n",
    "MODEL_LLAMA = 'llama3.2'"
   ]
  },
  {
   "cell_type": "code",
   "execution_count": 6,
   "id": "992ba847-1317-4a5a-aca1-087b706b364e",
   "metadata": {},
   "outputs": [
    {
     "name": "stdin",
     "output_type": "stream",
     "text": [
      "Please enter your detailed question for an appropriate answer: yield from {book.get(\"author\") for book in books if book.get(\"author\")}\n"
     ]
    }
   ],
   "source": [
    "# here is the question; type over this to ask something new\n",
    "\n",
    "my_question = input(\"Please enter your detailed question for an appropriate answer:\")"
   ]
  },
  {
   "cell_type": "code",
   "execution_count": 7,
   "id": "9b863a55-f86c-4e3f-8a79-94e24c1a8cf2",
   "metadata": {},
   "outputs": [],
   "source": [
    "system_prompt = \"You are a helpful technical tutor that answers questions related to python code, \\\n",
    "                software engineering, AI implementation and Large language Models.\"\n",
    "user_prompt = \" Please give a detailed explaination to the following question :\" + my_question\n"
   ]
  },
  {
   "cell_type": "code",
   "execution_count": 8,
   "id": "6ab83d92-d36b-4ce0-8bcc-5bb4c2f8ff23",
   "metadata": {},
   "outputs": [],
   "source": [
    "messages = [\n",
    "    {\"role\": \"system\", \"content\": system_prompt},\n",
    "    {\"role\": \"user\", \"content\": user_prompt}\n",
    "]"
   ]
  },
  {
   "cell_type": "code",
   "execution_count": 10,
   "id": "22c7b133-548e-4278-8383-14475f49994a",
   "metadata": {},
   "outputs": [
    {
     "data": {
      "text/markdown": [
       "In the expression you provided: \n",
       "\n",
       "python\n",
       "yield from {book.get(\"author\") for book in books if book.get(\"author\")}\n",
       "\n",
       "\n",
       "we're looking at a combination of Python's `yield from` statement, set comprehension, and the use of dictionary methods to filter and yield authors from a collection of \"books\". Let's break this down step by step.\n",
       "\n",
       "### Components of the Expression\n",
       "\n",
       "1. **Set Comprehension**:\n",
       "   - The part inside the curly braces:\n",
       "     python\n",
       "     {book.get(\"author\") for book in books if book.get(\"author\")}\n",
       "     \n",
       "   - This is a *set comprehension*, which is a concise way to create a set from an iterable. \n",
       "   - This specific comprehension does the following:\n",
       "     - Iterates over `books`, which is expected to be an iterable (like a list) of dictionaries.\n",
       "     - For each `book`, it calls `book.get(\"author\")` to retrieve the value associated with the key `\"author\"`.\n",
       "     - The `if book.get(\"author\")` condition ensures that only non-`None` or non-empty author values are included in the set. This filters out any books that either do not have an \"author\" key or have an empty or `None` value for \"author\".\n",
       "\n",
       "   - The result is a set containing unique authors of the books because sets inherently do not allow duplicate values.\n",
       "\n",
       "2. **`yield from`**:\n",
       "   - The `yield from` statement is used in a generator function. It allows you to yield all values from an iterable, in this case, the set created by the comprehension.\n",
       "   - This means that the generator will yield each unique author found in the set, one by one, when it is iterated over.\n",
       "\n",
       "### Complete Context\n",
       "\n",
       "To understand how this code snippet would be used in context, let's combine everything into a sample generator function:\n",
       "\n",
       "python\n",
       "def get_unique_authors(books):\n",
       "    yield from {book.get(\"author\") for book in books if book.get(\"author\")}\n",
       "\n",
       "\n",
       "In this function:\n",
       "- `books` is a collection (like a list) of dictionaries where each dictionary represents a book with various details, including an \"author\".\n",
       "- The function `get_unique_authors` will yield each unique author present in the provided `books` list when the generator is iterated.\n",
       "\n",
       "### Example\n",
       "\n",
       "Let's consider a practical example for clarity:\n",
       "\n",
       "python\n",
       "books = [\n",
       "    {\"title\": \"Book One\", \"author\": \"Author A\"},\n",
       "    {\"title\": \"Book Two\", \"author\": \"Author B\"},\n",
       "    {\"title\": \"Book Three\", \"author\": None},\n",
       "    {\"title\": \"Book Four\", \"author\": \"Author A\"},  # Duplicate author\n",
       "    {\"title\": \"Book Five\", \"author\": \"\"},\n",
       "    {\"title\": \"Book Six\"},  # No author key here\n",
       "]\n",
       "\n",
       "def get_unique_authors(books):\n",
       "    yield from {book.get(\"author\") for book in books if book.get(\"author\")}\n",
       "\n",
       "# Using the function\n",
       "for author in get_unique_authors(books):\n",
       "    print(author)\n",
       "\n",
       "\n",
       "### Expected Output\n",
       "\n",
       "The output of the above code would be:\n",
       "\n",
       "\n",
       "Author A\n",
       "Author B\n",
       "\n",
       "\n",
       "### Summary\n",
       "\n",
       "- `yield from`: This allows the function to yield values from another iterable.\n",
       "- Set comprehension: Creates a set of unique authors from the books list while filtering out any None or empty author values.\n",
       "- Combined together, this efficient approach provides a clean and effective way to gather and yield unique authors from a collection of book records."
      ],
      "text/plain": [
       "<IPython.core.display.Markdown object>"
      ]
     },
     "metadata": {},
     "output_type": "display_data"
    }
   ],
   "source": [
    "stream = openai.chat.completions.create(\n",
    "        model=MODEL_GPT,messages=messages,stream=True\n",
    "    )\n",
    "\n",
    "response = \"\"\n",
    "display_handle = display(Markdown(\"\"), display_id=True)\n",
    "for chunk in stream:\n",
    "    response += chunk.choices[0].delta.content or ''\n",
    "    response = response.replace(\"```\",\"\").replace(\"markdown\", \"\")\n",
    "    update_display(Markdown(response), display_id=display_handle.display_id)"
   ]
  },
  {
   "cell_type": "code",
   "execution_count": 14,
   "id": "e44de579-4a1a-4e6a-a510-20ea3e4b8d46",
   "metadata": {},
   "outputs": [
    {
     "data": {
      "text/markdown": [
       "Let's break down this line of Python code step by step.\n",
       "\n",
       "**Overview**\n",
       "\n",
       "This line is using a combination of list comprehension and the `yield from` syntax, which is used to delegate iteration over a sub-iterator. We're also dealing with dictionaries (`book`) and another iterable (`books`).\n",
       "\n",
       "**Line-by-Line Explanation**\n",
       "\n",
       "```python\n",
       "{book.get(\"author\") for book in books if book.get(\"author\")}\n",
       "```\n",
       "\n",
       "This is a dictionary comprehension (also known as a dict comprehension), which allows us to create a new dictionary based on the elements of an existing dictionary.\n",
       "\n",
       "Here's what happens inside this comprehension:\n",
       "\n",
       "* `for book in books`: Iterate over each item (`book`) in the `books` iterable.\n",
       "* `if book.get(\"author\")`: Filter out any items that don't have the key `\"author\"` in their dictionary. The `.get()` method returns `None` if the key is not present, so this condition effectively skips those items.\n",
       "\n",
       "Now, let's replace the dictionary comprehension with its expanded form:\n",
       "\n",
       "```python\n",
       "{value for book in books if book.get(\"author\")}\n",
       "```\n",
       "\n",
       "This will create a new dictionary where each key-value pair consists of an author name (the value returned by `book.get(\"author\")`) and an empty string (`\"\"`).\n",
       "\n",
       "**Now, let's incorporate the yield from syntax**\n",
       "\n",
       "```python\n",
       "yield from {book.get(\"author\") for book in books if book.get(\"author\")}\n",
       "```\n",
       "\n",
       "At this point, we've created a dictionary comprehension that generates a sequence of author names. However, when you use `yield from`, Python doesn't create an iterator immediately; instead, it creates an iterator that delegates to the sub-iterator (in this case, the dictionary comprehension).\n",
       "\n",
       "The resulting iterator yields each author name one by one, allowing you to iterate over them without loading all the authors into memory at once.\n",
       "\n",
       "**What's happening behind the scenes**\n",
       "\n",
       "When Python encounters `yield from`, it does the following:\n",
       "\n",
       "1. Creates an iterator for the sub-iterator (the dictionary comprehension).\n",
       "2. Delegates iteration to this sub-iterator.\n",
       "3. Yields each item from the sub-iterator, one by one.\n",
       "\n",
       "In our case, this means that the outer loop (`for book in books`) will iterate over each `book`, and for each `book`:\n",
       "\n",
       "1. The inner list comprehension (`{book.get(\"author\") for book in books if book.get(\"author\")}`) generates a sequence of author names.\n",
       "2. `yield from` delegates iteration to this sequence, so each author name is yielded one by one.\n",
       "\n",
       "**Example Use Case**\n",
       "\n",
       "Suppose you have a list of dictionaries representing books:\n",
       "```python\n",
       "books = [\n",
       "    {\"title\": \"Book 1\", \"author\": \"John Doe\"},\n",
       "    {\"title\": \"Book 2\", \"publisher\": \"ABC Inc.\"},\n",
       "    {\"title\": \"Book 3\", \"author\": \"Jane Smith\"}\n",
       "]\n",
       "```\n",
       "To extract all author names from these books, you could use the `yield from` version of the original line:\n",
       "```python\n",
       "def get_authors(books):\n",
       "    yield from {book.get(\"author\") for book in books if book.get(\"author\")}\n",
       "\n",
       "# Example usage:\n",
       "for author in get_authors(books):\n",
       "    print(author)  # Output: John Doe, Jane Smith\n",
       "```\n",
       "This code will iterate over each author name without loading all the authors into memory at once."
      ],
      "text/plain": [
       "<IPython.core.display.Markdown object>"
      ]
     },
     "metadata": {},
     "output_type": "display_data"
    }
   ],
   "source": [
    "# Get LLama 3.2 to answer the question\n",
    "\n",
    "response = ollama.chat(model=MODEL_LLAMA, messages=messages)\n",
    "reply = response['message']['content']\n",
    "display(Markdown(reply))"
   ]
  },
  {
   "cell_type": "markdown",
   "id": "14b2454b-8ef8-4b5c-b928-053a15e0d553",
   "metadata": {},
   "source": [
    "<table style=\"margin: 0; text-align: left;\">\n",
    "    <tr>\n",
    "        <td style=\"width: 150px; height: 150px; vertical-align: middle;\">\n",
    "            <img src=\"../important.jpg\" width=\"150\" height=\"150\" style=\"display: block;\" />\n",
    "        </td>\n",
    "        <td>\n",
    "            <h2 style=\"color:#900;\">Before you move to Week 2 (which is tons of fun)</h2>\n",
    "            <span style=\"color:#900;\">Please see the week1 EXERCISE notebook for your challenge for the end of week 1. This will give you some essential practice working with Frontier APIs, and prepare you well for Week 2.</span>\n",
    "        </td>\n",
    "    </tr>\n",
    "</table>"
   ]
  },
  {
   "cell_type": "markdown",
   "id": "17b64f0f-7d33-4493-985a-033d06e8db08",
   "metadata": {},
   "source": [
    "<table style=\"margin: 0; text-align: left;\">\n",
    "    <tr>\n",
    "        <td style=\"width: 150px; height: 150px; vertical-align: middle;\">\n",
    "            <img src=\"../resources.jpg\" width=\"150\" height=\"150\" style=\"display: block;\" />\n",
    "        </td>\n",
    "        <td>\n",
    "            <h2 style=\"color:#f71;\">A reminder on 3 useful resources</h2>\n",
    "            <span style=\"color:#f71;\">1. The resources for the course are available <a href=\"https://edwarddonner.com/2024/11/13/llm-engineering-resources/\">here.</a><br/>\n",
    "            2. I'm on LinkedIn <a href=\"https://www.linkedin.com/in/eddonner/\">here</a> and I love connecting with people taking the course!<br/>\n",
    "            3. I'm trying out X/Twitter and I'm at <a href=\"https://x.com/edwarddonner\">@edwarddonner<a> and hoping people will teach me how it's done..  \n",
    "            </span>\n",
    "        </td>\n",
    "    </tr>\n",
    "</table>"
   ]
  },
  {
   "cell_type": "markdown",
   "id": "6f48e42e-fa7a-495f-a5d4-26bfc24d60b6",
   "metadata": {},
   "source": [
    "<table style=\"margin: 0; text-align: left;\">\n",
    "    <tr>\n",
    "        <td style=\"width: 150px; height: 150px; vertical-align: middle;\">\n",
    "            <img src=\"../thankyou.jpg\" width=\"150\" height=\"150\" style=\"display: block;\" />\n",
    "        </td>\n",
    "        <td>\n",
    "            <h2 style=\"color:#090;\">Finally! I have a special request for you</h2>\n",
    "            <span style=\"color:#090;\">\n",
    "                My editor tells me that it makes a MASSIVE difference when students rate this course on Udemy - it's one of the main ways that Udemy decides whether to show it to others. If you're able to take a minute to rate this, I'd be so very grateful! And regardless - always please reach out to me at ed@edwarddonner.com if I can help at any point.\n",
    "            </span>\n",
    "        </td>\n",
    "    </tr>\n",
    "</table>"
   ]
  },
  {
   "cell_type": "code",
   "execution_count": null,
   "id": "b8d3e1a1-ba54-4907-97c5-30f89a24775b",
   "metadata": {},
   "outputs": [],
   "source": []
  }
 ],
 "metadata": {
  "kernelspec": {
   "display_name": "Python 3 (ipykernel)",
   "language": "python",
   "name": "python3"
  },
  "language_info": {
   "codemirror_mode": {
    "name": "ipython",
    "version": 3
   },
   "file_extension": ".py",
   "mimetype": "text/x-python",
   "name": "python",
   "nbconvert_exporter": "python",
   "pygments_lexer": "ipython3",
   "version": "3.11.11"
  }
 },
 "nbformat": 4,
 "nbformat_minor": 5
}
